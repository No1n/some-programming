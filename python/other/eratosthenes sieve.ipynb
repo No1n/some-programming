{
 "cells": [
  {
   "cell_type": "code",
   "execution_count": 1,
   "metadata": {},
   "outputs": [],
   "source": [
    "def eratosthenes_sieve(N:int):\n",
    "    \"\"\"\n",
    "    Sieve of Eratosthenes algorithm. Determines whether a numer from\n",
    "    an array from 0 to N is prime or compound.\n",
    "\n",
    "    Complexity:\n",
    "    O(nlog(logn))\n",
    "\n",
    "    :param N: the maximum number from the sequence to check.\n",
    "    :return A: array with prime numpbers\n",
    "\n",
    "    Examples:\n",
    "    >>> eratosthenes_sieve(10)\n",
    "    [2, 3, 5, 7]\n",
    "    >>> eratosthenes_sieve(20)\n",
    "    [2, 3, 5, 7, 11, 13, 17, 19]\n",
    "    \"\"\"\n",
    "    A = [True]*N\n",
    "    A[0] = A[1] = False\n",
    "    for step in range(2, N):\n",
    "        if A[step]:\n",
    "            for itter in range(2*step, N, step):\n",
    "                A[itter] = False\n",
    "    array = []\n",
    "    for i in range(N):\n",
    "        if A[i]:\n",
    "            array.append(i)\n",
    "    return array"
   ]
  },
  {
   "cell_type": "code",
   "execution_count": 2,
   "metadata": {},
   "outputs": [
    {
     "name": "stdout",
     "output_type": "stream",
     "text": [
      "Trying:\n",
      "    eratosthenes_sieve(10)\n",
      "Expecting:\n",
      "    [2, 3, 5, 7]\n",
      "ok\n",
      "Trying:\n",
      "    eratosthenes_sieve(20)\n",
      "Expecting:\n",
      "    [2, 3, 5, 7, 11, 13, 17, 19]\n",
      "ok\n",
      "1 items had no tests:\n",
      "    __main__\n",
      "1 items passed all tests:\n",
      "   2 tests in __main__.eratosthenes_sieve\n",
      "2 tests in 2 items.\n",
      "2 passed and 0 failed.\n",
      "Test passed.\n"
     ]
    }
   ],
   "source": [
    "if __name__ == \"__main__\":\n",
    "    import doctest\n",
    "    doctest.testmod(verbose=True)"
   ]
  }
 ],
 "metadata": {
  "kernelspec": {
   "display_name": "Python 3",
   "language": "python",
   "name": "python3"
  },
  "language_info": {
   "codemirror_mode": {
    "name": "ipython",
    "version": 3
   },
   "file_extension": ".py",
   "mimetype": "text/x-python",
   "name": "python",
   "nbconvert_exporter": "python",
   "pygments_lexer": "ipython3",
   "version": "3.7.7"
  }
 },
 "nbformat": 4,
 "nbformat_minor": 4
}
