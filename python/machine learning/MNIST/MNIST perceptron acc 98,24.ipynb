{
  "nbformat": 4,
  "nbformat_minor": 0,
  "metadata": {
    "colab": {
      "name": "Copy of Untitled0.ipynb",
      "provenance": [],
      "collapsed_sections": []
    },
    "kernelspec": {
      "name": "python3",
      "display_name": "Python 3"
    }
  },
  "cells": [
    {
      "cell_type": "code",
      "metadata": {
        "id": "a1BmFVopMPlB"
      },
      "source": [
        "from keras.datasets import mnist\n",
        "import matplotlib.pyplot as plt\n",
        "from keras.utils.np_utils import to_categorical\n",
        "from keras.models import Sequential\n",
        "from keras.layers import Dense\n",
        "\n",
        "%matplotlib inline\n",
        "\n",
        "(X_train, y_train), (X_test, y_test) = mnist.load_data()"
      ],
      "execution_count": 47,
      "outputs": []
    },
    {
      "cell_type": "code",
      "metadata": {
        "id": "lnfAsyL9MQdG",
        "outputId": "42523f88-8c9c-4841-cb3c-eca9b61839c8",
        "colab": {
          "base_uri": "https://localhost:8080/",
          "height": 268
        }
      },
      "source": [
        "plt.subplot(221)\n",
        "plt.imshow(X_train[0], cmap=plt.get_cmap('gray'))\n",
        "plt.subplot(222)\n",
        "plt.imshow(X_train[1], cmap=plt.get_cmap('gray'))\n",
        "plt.subplot(223)\n",
        "plt.imshow(X_train[2], cmap=plt.get_cmap('gray'))\n",
        "plt.subplot(224)\n",
        "plt.imshow(X_train[3], cmap=plt.get_cmap('gray'))\n",
        "\n",
        "plt.show()"
      ],
      "execution_count": 14,
      "outputs": [
        {
          "output_type": "display_data",
          "data": {
            "image/png": "[encoded data removed]",
            "text/plain": [
              "<Figure size 432x288 with 4 Axes>"
            ]
          },
          "metadata": {
            "tags": [],
            "needs_background": "light"
          }
        }
      ]
    },
    {
      "cell_type": "code",
      "metadata": {
        "id": "czbT77YLMVml",
        "outputId": "fca2400d-3c53-4592-ed73-3335e7ac89e0",
        "colab": {
          "base_uri": "https://localhost:8080/",
          "height": 51
        }
      },
      "source": [
        "print(X_train.shape)\n",
        "print(X_test.shape)"
      ],
      "execution_count": 18,
      "outputs": [
        {
          "output_type": "stream",
          "text": [
            "(60000, 28, 28)\n",
            "(10000, 28, 28)\n"
          ],
          "name": "stdout"
        }
      ]
    },
    {
      "cell_type": "code",
      "metadata": {
        "id": "bLExWH4mMev-",
        "outputId": "10a4fce6-81e6-4c0c-ba34-9221b8681429",
        "colab": {
          "base_uri": "https://localhost:8080/",
          "height": 51
        }
      },
      "source": [
        "num_pixels = X_train.shape[1] * X_train.shape[2]\n",
        "X_train = X_train.reshape((X_train.shape[0], num_pixels)).astype('float32')\n",
        "X_test = X_test.reshape((X_test.shape[0], num_pixels)).astype('float32')\n",
        "\n",
        "print(X_train.shape)\n",
        "print(max(X_train[1]))"
      ],
      "execution_count": 19,
      "outputs": [
        {
          "output_type": "stream",
          "text": [
            "(60000, 784)\n",
            "255.0\n"
          ],
          "name": "stdout"
        }
      ]
    },
    {
      "cell_type": "code",
      "metadata": {
        "id": "eWYUdR3BNV-Q"
      },
      "source": [
        "X_train = X_train / 255\n",
        "X_test = X_test / 255"
      ],
      "execution_count": 20,
      "outputs": []
    },
    {
      "cell_type": "code",
      "metadata": {
        "id": "-h6LB_CENZF0",
        "outputId": "1bc18b64-3cf7-4e09-a64c-8ca03d6c9968",
        "colab": {
          "base_uri": "https://localhost:8080/",
          "height": 51
        }
      },
      "source": [
        "y_train = to_categorical(y_train)\n",
        "y_test = to_categorical(y_test)\n",
        "num_classes = y_test.shape[1]\n",
        "print(num_classes)\n",
        "print(y_train[0])"
      ],
      "execution_count": 22,
      "outputs": [
        {
          "output_type": "stream",
          "text": [
            "10\n",
            "[0. 0. 0. 0. 0. 1. 0. 0. 0. 0.]\n"
          ],
          "name": "stdout"
        }
      ]
    },
    {
      "cell_type": "code",
      "metadata": {
        "id": "Ly6BbSRMNdg9"
      },
      "source": [
        "def baseline_model():\n",
        "\tmodel = Sequential()\n",
        "\tmodel.add(Dense(num_pixels, input_dim=num_pixels, kernel_initializer='normal', activation='relu'))\n",
        "\tmodel.add(Dense(num_classes, kernel_initializer='normal', activation='softmax'))\n",
        "\tmodel.compile(loss='categorical_crossentropy', optimizer='adam', metrics=['accuracy'])\n",
        "\treturn model"
      ],
      "execution_count": 27,
      "outputs": []
    },
    {
      "cell_type": "code",
      "metadata": {
        "id": "4CRIV5v3Nw6D",
        "outputId": "58107b20-57b9-4053-ca43-df2da4272a3f",
        "colab": {
          "base_uri": "https://localhost:8080/",
          "height": 51
        }
      },
      "source": [
        "model = baseline_model()\n",
        "\n",
        "for layer in model.layers:\n",
        "    print(layer.output_shape)"
      ],
      "execution_count": 28,
      "outputs": [
        {
          "output_type": "stream",
          "text": [
            "(None, 784)\n",
            "(None, 10)\n"
          ],
          "name": "stdout"
        }
      ]
    },
    {
      "cell_type": "code",
      "metadata": {
        "id": "0YF43MSnN1yP",
        "outputId": "a4b6e332-a866-4312-9363-c99ee69a34f7",
        "colab": {
          "base_uri": "https://localhost:8080/",
          "height": 374
        }
      },
      "source": [
        "model = baseline_model()\n",
        "history = model.fit(X_train, y_train, validation_data=(X_test, y_test), epochs=10, batch_size=200, verbose=2)\n",
        "scores = model.evaluate(X_test, y_test, verbose=0)\n",
        "print(\"Baseline Error: %.2f%%\" % (100-scores[1]*100))"
      ],
      "execution_count": 44,
      "outputs": [
        {
          "output_type": "stream",
          "text": [
            "Epoch 1/10\n",
            "300/300 - 4s - loss: 0.2765 - accuracy: 0.9219 - val_loss: 0.1414 - val_accuracy: 0.9588\n",
            "Epoch 2/10\n",
            "300/300 - 4s - loss: 0.1110 - accuracy: 0.9675 - val_loss: 0.0980 - val_accuracy: 0.9705\n",
            "Epoch 3/10\n",
            "300/300 - 4s - loss: 0.0708 - accuracy: 0.9790 - val_loss: 0.0792 - val_accuracy: 0.9741\n",
            "Epoch 4/10\n",
            "300/300 - 4s - loss: 0.0493 - accuracy: 0.9860 - val_loss: 0.0686 - val_accuracy: 0.9782\n",
            "Epoch 5/10\n",
            "300/300 - 4s - loss: 0.0358 - accuracy: 0.9901 - val_loss: 0.0664 - val_accuracy: 0.9783\n",
            "Epoch 6/10\n",
            "300/300 - 4s - loss: 0.0258 - accuracy: 0.9931 - val_loss: 0.0570 - val_accuracy: 0.9826\n",
            "Epoch 7/10\n",
            "300/300 - 4s - loss: 0.0186 - accuracy: 0.9958 - val_loss: 0.0603 - val_accuracy: 0.9807\n",
            "Epoch 8/10\n",
            "300/300 - 4s - loss: 0.0145 - accuracy: 0.9964 - val_loss: 0.0615 - val_accuracy: 0.9805\n",
            "Epoch 9/10\n",
            "300/300 - 4s - loss: 0.0104 - accuracy: 0.9980 - val_loss: 0.0612 - val_accuracy: 0.9804\n",
            "Epoch 10/10\n",
            "300/300 - 4s - loss: 0.0075 - accuracy: 0.9987 - val_loss: 0.0564 - val_accuracy: 0.9824\n",
            "Baseline Error: 1.76%\n"
          ],
          "name": "stdout"
        }
      ]
    },
    {
      "cell_type": "code",
      "metadata": {
        "id": "kU0GkJ5sOLFh"
      },
      "source": [
        "def history_vizualization(history):\n",
        "  fig, ax = plt.subplots(2, 1, figsize=(15, 8))\n",
        "  ax[0].plot(history.history['accuracy'])\n",
        "  ax[0].plot(history.history['val_accuracy'])\n",
        "  ax[0].set_title('Model accuracy')\n",
        "  ax[0].set_ylabel('Accuracy')\n",
        "  ax[0].set_xlabel('Epoch')\n",
        "  ax[0].legend(['Train', 'Test'], loc='upper left')\n",
        " \n",
        "  ax[1].plot(history.history['loss'])\n",
        "  ax[1].plot(history.history['val_loss'])\n",
        "  ax[1].set_title('Model loss')\n",
        "  ax[1].set_ylabel('Loss')\n",
        "  ax[1].set_xlabel('Epoch')\n",
        "  ax[1].legend(['Train', 'Test'], loc='upper left')"
      ],
      "execution_count": 90,
      "outputs": []
    },
    {
      "cell_type": "code",
      "metadata": {
        "id": "GSOU7ttVOkv4",
        "outputId": "81e62700-f765-4d40-a302-e6320b7d1a5e",
        "colab": {
          "base_uri": "https://localhost:8080/",
          "height": 513
        }
      },
      "source": [
        "history_vizualization(history)"
      ],
      "execution_count": 91,
      "outputs": [
        {
          "output_type": "display_data",
          "data": {
            "image/png": "[encoded data removed]",
            "text/plain": [
              "<Figure size 1080x576 with 2 Axes>"
            ]
          },
          "metadata": {
            "tags": [],
            "needs_background": "light"
          }
        }
      ]
    },
    {
      "cell_type": "code",
      "metadata": {
        "id": "Vza-3mOBR0q6"
      },
      "source": [
        ""
      ],
      "execution_count": null,
      "outputs": []
    }
  ]
}