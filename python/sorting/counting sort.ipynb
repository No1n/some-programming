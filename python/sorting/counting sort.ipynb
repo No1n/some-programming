{
 "cells": [
  {
   "cell_type": "code",
   "execution_count": 1,
   "metadata": {},
   "outputs": [],
   "source": [
    "def counting_sort(array:list):\n",
    "    \"\"\"\n",
    "    Counting sort implementation.\n",
    "    \n",
    "    :param array: some mutable ordered collection with heterogeneous\n",
    "    comparable items inside\n",
    "    :return: the same collection ordered by ascending\n",
    "    \n",
    "    Complexity:\n",
    "    - Worst O(n + k), where k is the range of the key values.\n",
    "    \n",
    "    Examples:\n",
    "    >>> counting_sort([0, 5, 3, 2, 2])\n",
    "    [0, 2, 2, 3, 5]\n",
    "    >>> counting_sort([])\n",
    "    []\n",
    "    >>> counting_sort([-2, -5, -45])\n",
    "    [-45, -5, -2]\n",
    "    \"\"\"\n",
    "    if array == []:\n",
    "        return []\n",
    "    \n",
    "    array_len = len(array)\n",
    "    array_max = max(array)\n",
    "    array_min = min(array)\n",
    "\n",
    "    counting_array_length = array_max + 1 - array_min\n",
    "    counting_array = [0] * counting_array_length\n",
    "\n",
    "    for number in array:\n",
    "        counting_array[number - array_min] += 1\n",
    "        \n",
    "    out_array = []\n",
    "\n",
    "    for index in range(0, len(counting_array)):\n",
    "        if counting_array[index] != 0:\n",
    "            for counter in range(0, counting_array[index]):\n",
    "                out_array.append(index + array_min)\n",
    "    return out_array"
   ]
  },
  {
   "cell_type": "code",
   "execution_count": 2,
   "metadata": {},
   "outputs": [
    {
     "name": "stdout",
     "output_type": "stream",
     "text": [
      "Trying:\n",
      "    counting_sort([0, 5, 3, 2, 2])\n",
      "Expecting:\n",
      "    [0, 2, 2, 3, 5]\n",
      "ok\n",
      "Trying:\n",
      "    counting_sort([])\n",
      "Expecting:\n",
      "    []\n",
      "ok\n",
      "Trying:\n",
      "    counting_sort([-2, -5, -45])\n",
      "Expecting:\n",
      "    [-45, -5, -2]\n",
      "ok\n",
      "1 items had no tests:\n",
      "    __main__\n",
      "1 items passed all tests:\n",
      "   3 tests in __main__.counting_sort\n",
      "3 tests in 2 items.\n",
      "3 passed and 0 failed.\n",
      "Test passed.\n"
     ]
    }
   ],
   "source": [
    "if __name__ == \"__main__\":\n",
    "    import doctest\n",
    "    doctest.testmod(verbose=True)"
   ]
  }
 ],
 "metadata": {
  "kernelspec": {
   "display_name": "Python 3",
   "language": "python",
   "name": "python3"
  },
  "language_info": {
   "codemirror_mode": {
    "name": "ipython",
    "version": 3
   },
   "file_extension": ".py",
   "mimetype": "text/x-python",
   "name": "python",
   "nbconvert_exporter": "python",
   "pygments_lexer": "ipython3",
   "version": "3.7.7"
  }
 },
 "nbformat": 4,
 "nbformat_minor": 4
}
