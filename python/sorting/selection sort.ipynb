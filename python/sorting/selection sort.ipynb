{
 "cells": [
  {
   "cell_type": "code",
   "execution_count": 1,
   "metadata": {},
   "outputs": [],
   "source": [
    "def selection_sort(array:list):\n",
    "    \"\"\"\n",
    "    Selection sort implementation.\n",
    "    \n",
    "    :param array: some mutable ordered collection with heterogeneous\n",
    "    comparable items inside\n",
    "    :return: the same collection ordered by ascending\n",
    "    \n",
    "    Complexity:\n",
    "    - Worst O(n**2)\n",
    "    - Average O(n**2)\n",
    "    - Best O(n**2)\n",
    "    Examples:\n",
    "    >>> selection_sort([0, 5, 3, 2, 2])\n",
    "    [0, 2, 2, 3, 5]\n",
    "    >>> selection_sort([])\n",
    "    []\n",
    "    >>> selection_sort([-2, -5, -45])\n",
    "    [-45, -5, -2]\n",
    "    \"\"\"\n",
    "    length = len(array)\n",
    "    for position in range(0, length-1):\n",
    "        for key in range(position+1, length):\n",
    "            if array[key] < array[position]:\n",
    "                array[key], array[position] = array[position], array[key]\n",
    "    return array"
   ]
  },
  {
   "cell_type": "code",
   "execution_count": 2,
   "metadata": {},
   "outputs": [
    {
     "name": "stdout",
     "output_type": "stream",
     "text": [
      "Trying:\n",
      "    selection_sort([0, 5, 3, 2, 2])\n",
      "Expecting:\n",
      "    [0, 2, 2, 3, 5]\n",
      "ok\n",
      "Trying:\n",
      "    selection_sort([])\n",
      "Expecting:\n",
      "    []\n",
      "ok\n",
      "Trying:\n",
      "    selection_sort([-2, -5, -45])\n",
      "Expecting:\n",
      "    [-45, -5, -2]\n",
      "ok\n",
      "1 items had no tests:\n",
      "    __main__\n",
      "1 items passed all tests:\n",
      "   3 tests in __main__.selection_sort\n",
      "3 tests in 2 items.\n",
      "3 passed and 0 failed.\n",
      "Test passed.\n"
     ]
    }
   ],
   "source": [
    "if __name__ == \"__main__\":\n",
    "    import doctest\n",
    "    doctest.testmod(verbose=True)"
   ]
  }
 ],
 "metadata": {
  "kernelspec": {
   "display_name": "Python 3",
   "language": "python",
   "name": "python3"
  },
  "language_info": {
   "codemirror_mode": {
    "name": "ipython",
    "version": 3
   },
   "file_extension": ".py",
   "mimetype": "text/x-python",
   "name": "python",
   "nbconvert_exporter": "python",
   "pygments_lexer": "ipython3",
   "version": "3.7.7"
  }
 },
 "nbformat": 4,
 "nbformat_minor": 4
}
