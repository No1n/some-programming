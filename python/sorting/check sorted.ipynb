{
 "cells": [
  {
   "cell_type": "code",
   "execution_count": 1,
   "metadata": {},
   "outputs": [],
   "source": [
    "def check_sorted(A:list, ascending=True):\n",
    "    \"\"\"\n",
    "    Check list sorting in ascending or descending order.\n",
    "    \n",
    "    Complexity:\n",
    "    O(n)\n",
    "\n",
    "    :param A: verifiable list.\n",
    "    :param ascending: True if ascending False if descending.\n",
    "    :return: True, if list sorted.\n",
    "\n",
    "    Examples:\n",
    "    >>> check_sorted([1, 2, 5, 10, 20, 1000])\n",
    "    True\n",
    "    >>> check_sorted([20, 11, 9, 5, 0], False)\n",
    "    True\n",
    "    >>> check_sorted([11, 20, 30, 15])\n",
    "    False\n",
    "    \"\"\"\n",
    "    flag = True\n",
    "    S = 2*int(ascending)\n",
    "    for i in range(0, len(A) - 1):\n",
    "        if S*A[i] > S*A[i + 1]:\n",
    "            flag = False\n",
    "            break\n",
    "    return flag"
   ]
  },
  {
   "cell_type": "code",
   "execution_count": 2,
   "metadata": {},
   "outputs": [
    {
     "name": "stdout",
     "output_type": "stream",
     "text": [
      "Trying:\n",
      "    check_sorted([1, 2, 5, 10, 20, 1000])\n",
      "Expecting:\n",
      "    True\n",
      "ok\n",
      "Trying:\n",
      "    check_sorted([20, 11, 9, 5, 0], False)\n",
      "Expecting:\n",
      "    True\n",
      "ok\n",
      "Trying:\n",
      "    check_sorted([11, 20, 30, 15])\n",
      "Expecting:\n",
      "    False\n",
      "ok\n",
      "1 items had no tests:\n",
      "    __main__\n",
      "1 items passed all tests:\n",
      "   3 tests in __main__.check_sorted\n",
      "3 tests in 2 items.\n",
      "3 passed and 0 failed.\n",
      "Test passed.\n"
     ]
    }
   ],
   "source": [
    "if __name__ == \"__main__\":\n",
    "    import doctest\n",
    "    doctest.testmod(verbose=True)"
   ]
  }
 ],
 "metadata": {
  "kernelspec": {
   "display_name": "Python 3",
   "language": "python",
   "name": "python3"
  },
  "language_info": {
   "codemirror_mode": {
    "name": "ipython",
    "version": 3
   },
   "file_extension": ".py",
   "mimetype": "text/x-python",
   "name": "python",
   "nbconvert_exporter": "python",
   "pygments_lexer": "ipython3",
   "version": "3.7.7"
  }
 },
 "nbformat": 4,
 "nbformat_minor": 4
}
