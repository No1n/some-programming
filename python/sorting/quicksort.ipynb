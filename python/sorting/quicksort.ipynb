{
 "cells": [
  {
   "cell_type": "code",
   "execution_count": 1,
   "metadata": {},
   "outputs": [],
   "source": [
    "def quicksort(A:list):\n",
    "    \"\"\"\n",
    "    Hoare sorting implementation.\n",
    "\n",
    "    Complexity:\n",
    "    - Best O(nlogn)\n",
    "    - Average O(nlogn)\n",
    "    - Worst O(n**2)\n",
    "    \n",
    "    :param A: sortable list.\n",
    "    :return: sorted list A.\n",
    "    \n",
    "    Examples:\n",
    "    >>> quicksort([0, 5, 3, 2, 2])\n",
    "    [0, 2, 2, 3, 5]\n",
    "    >>> quicksort([])\n",
    "    []\n",
    "    >>> quicksort([-2, -5, -45])\n",
    "    [-45, -5, -2]\n",
    "    >>> quicksort([1])\n",
    "    [1]\n",
    "    \"\"\"\n",
    "    if len(A) == 0:\n",
    "        return []\n",
    "    if len(A) == 1:\n",
    "        return A\n",
    "    barrier = A[0]\n",
    "    L = []\n",
    "    M = []\n",
    "    R = []\n",
    "    for x in A:\n",
    "        if x < barrier:\n",
    "            L.append(x)\n",
    "        elif x == barrier:\n",
    "            M.append(x)\n",
    "        else:\n",
    "            R.append(x)\n",
    "        quicksort(L)\n",
    "        quicksort(R)\n",
    "        k = 0\n",
    "        for x in L + M + R:\n",
    "            A[k] = x\n",
    "            k += 1\n",
    "    return A"
   ]
  },
  {
   "cell_type": "code",
   "execution_count": 2,
   "metadata": {},
   "outputs": [
    {
     "name": "stdout",
     "output_type": "stream",
     "text": [
      "Trying:\n",
      "    quicksort([0, 5, 3, 2, 2])\n",
      "Expecting:\n",
      "    [0, 2, 2, 3, 5]\n",
      "ok\n",
      "Trying:\n",
      "    quicksort([])\n",
      "Expecting:\n",
      "    []\n",
      "ok\n",
      "Trying:\n",
      "    quicksort([-2, -5, -45])\n",
      "Expecting:\n",
      "    [-45, -5, -2]\n",
      "ok\n",
      "Trying:\n",
      "    quicksort([1])\n",
      "Expecting:\n",
      "    [1]\n",
      "ok\n",
      "1 items had no tests:\n",
      "    __main__\n",
      "1 items passed all tests:\n",
      "   4 tests in __main__.quicksort\n",
      "4 tests in 2 items.\n",
      "4 passed and 0 failed.\n",
      "Test passed.\n"
     ]
    }
   ],
   "source": [
    "if __name__ == \"__main__\":\n",
    "    import doctest\n",
    "    doctest.testmod(verbose=True)"
   ]
  }
 ],
 "metadata": {
  "kernelspec": {
   "display_name": "Python 3",
   "language": "python",
   "name": "python3"
  },
  "language_info": {
   "codemirror_mode": {
    "name": "ipython",
    "version": 3
   },
   "file_extension": ".py",
   "mimetype": "text/x-python",
   "name": "python",
   "nbconvert_exporter": "python",
   "pygments_lexer": "ipython3",
   "version": "3.7.7"
  }
 },
 "nbformat": 4,
 "nbformat_minor": 4
}
