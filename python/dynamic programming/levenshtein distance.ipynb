{
 "cells": [
  {
   "cell_type": "code",
   "execution_count": 1,
   "metadata": {},
   "outputs": [],
   "source": [
    "def lev_dis(A:str, B:str):\n",
    "    \"\"\"\n",
    "    DP Levenshtein distance search implementation.\n",
    "\n",
    "    :param A: first string.\n",
    "    :param B: second string.\n",
    "    :return: Levenshtein distance.\n",
    "    \n",
    "    Examples:\n",
    "    >>> lev_dis(\"qwer\", \"qwerty\")\n",
    "    2\n",
    "    >>> lev_dis(\"\", \"qwerty\")\n",
    "    6\n",
    "    >>> lev_dis(\"\", \"\")\n",
    "    0\n",
    "    \"\"\"\n",
    "    F = [[(i + j) if i*j == 0 else 0 for i in range(len(B) + 1)]\n",
    "         for j in range(len(A) + 1)]\n",
    "    for i in range(1, len(A) + 1):\n",
    "        for j in range(1, len(B) + 1):\n",
    "            if A[i - 1] == B[j - 1]:\n",
    "                F[i][j] = F[i - 1][j - 1]\n",
    "            else:\n",
    "                F[i][j] = 1 + min(F[i - 1][j], F[i][j - 1], F[i - 1][j - 1])\n",
    "    return F[len(A)][len(B)]"
   ]
  },
  {
   "cell_type": "code",
   "execution_count": 2,
   "metadata": {},
   "outputs": [
    {
     "name": "stdout",
     "output_type": "stream",
     "text": [
      "Trying:\n",
      "    lev_dis(\"qwer\", \"qwerty\")\n",
      "Expecting:\n",
      "    2\n",
      "ok\n",
      "Trying:\n",
      "    lev_dis(\"\", \"qwerty\")\n",
      "Expecting:\n",
      "    6\n",
      "ok\n",
      "Trying:\n",
      "    lev_dis(\"\", \"\")\n",
      "Expecting:\n",
      "    0\n",
      "ok\n",
      "1 items had no tests:\n",
      "    __main__\n",
      "1 items passed all tests:\n",
      "   3 tests in __main__.lev_dis\n",
      "3 tests in 2 items.\n",
      "3 passed and 0 failed.\n",
      "Test passed.\n"
     ]
    }
   ],
   "source": [
    "if __name__ == \"__main__\":\n",
    "    import doctest\n",
    "    doctest.testmod(verbose=True)"
   ]
  }
 ],
 "metadata": {
  "kernelspec": {
   "display_name": "Python 3",
   "language": "python",
   "name": "python3"
  },
  "language_info": {
   "codemirror_mode": {
    "name": "ipython",
    "version": 3
   },
   "file_extension": ".py",
   "mimetype": "text/x-python",
   "name": "python",
   "nbconvert_exporter": "python",
   "pygments_lexer": "ipython3",
   "version": "3.7.7"
  }
 },
 "nbformat": 4,
 "nbformat_minor": 4
}
