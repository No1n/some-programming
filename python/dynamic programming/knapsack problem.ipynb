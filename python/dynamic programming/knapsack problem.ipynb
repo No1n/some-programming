{
 "cells": [
  {
   "cell_type": "code",
   "execution_count": 1,
   "metadata": {},
   "outputs": [],
   "source": [
    "def knapsack(wt:list, val:list, M:int):\n",
    "    \"\"\"\n",
    "    DP implementation of solver of the knapsack problem.\n",
    "    \n",
    "    :param weigths: increasing list with weigths of the items.\n",
    "    :param values: increasing list with values of the items.\n",
    "    :param max: maximum weigth.\n",
    "    :return: maximum available value.\n",
    "\n",
    "    Examples:\n",
    "    >>> knapsack([1, 3, 4, 5], [1, 4, 5, 7], 7)\n",
    "    9\n",
    "    >>> knapsack([10, 20, 30], [60, 100, 120], 50)\n",
    "    220\n",
    "    \"\"\"\n",
    "    N = len(wt) + 1\n",
    "    A = [[0]*(M + 1) for i in range(N)]\n",
    "    for i in range(N):\n",
    "        for w in range(M + 1):\n",
    "            if i == 0 or w == 0:\n",
    "                A[i][w] = 0\n",
    "            elif wt[i - 1] <= w:\n",
    "                A[i][w] = max(val[i - 1] + A[i - 1][w - wt[i - 1]], A[i - 1][w])\n",
    "            else:\n",
    "                A[i][w] = A[i - 1][w]\n",
    "    print(A[N - 1][M])"
   ]
  },
  {
   "cell_type": "code",
   "execution_count": 2,
   "metadata": {},
   "outputs": [
    {
     "name": "stdout",
     "output_type": "stream",
     "text": [
      "Trying:\n",
      "    knapsack([1, 3, 4, 5], [1, 4, 5, 7], 7)\n",
      "Expecting:\n",
      "    9\n",
      "ok\n",
      "Trying:\n",
      "    knapsack([10, 20, 30], [60, 100, 120], 50)\n",
      "Expecting:\n",
      "    220\n",
      "ok\n",
      "1 items had no tests:\n",
      "    __main__\n",
      "1 items passed all tests:\n",
      "   2 tests in __main__.knapsack\n",
      "2 tests in 2 items.\n",
      "2 passed and 0 failed.\n",
      "Test passed.\n"
     ]
    }
   ],
   "source": [
    "if __name__ == \"__main__\":\n",
    "    import doctest\n",
    "    doctest.testmod(verbose=True)"
   ]
  }
 ],
 "metadata": {
  "kernelspec": {
   "display_name": "Python 3",
   "language": "python",
   "name": "python3"
  },
  "language_info": {
   "codemirror_mode": {
    "name": "ipython",
    "version": 3
   },
   "file_extension": ".py",
   "mimetype": "text/x-python",
   "name": "python",
   "nbconvert_exporter": "python",
   "pygments_lexer": "ipython3",
   "version": "3.7.7"
  }
 },
 "nbformat": 4,
 "nbformat_minor": 4
}
