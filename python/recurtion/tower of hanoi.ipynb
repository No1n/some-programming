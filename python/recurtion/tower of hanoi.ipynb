{
 "cells": [
  {
   "cell_type": "code",
   "execution_count": 1,
   "metadata": {},
   "outputs": [],
   "source": [
    "def tower_of_hanoi(n:int, sourse:list, target:list, auxiliary:list):\n",
    "    \"\"\"\n",
    "    Recursive mplementation of the Hanoi tower problem.\n",
    "\n",
    "    :param n > 0: number of rings in sourse.\n",
    "    :param sourse: list with rings indexes in start rod.\n",
    "    :param target: list with rings indexes in target rod.\n",
    "    :param auxiliary: list with rings indexes in auxiliary rod.\n",
    "    :return: list with rings indexes in target rod.\n",
    "    \n",
    "    Examples:\n",
    "    >>> tower_of_hanoi(3, [3, 2, 1], [], [])\n",
    "    [3, 2, 1]\n",
    "    >>> tower_of_hanoi(5, [5, 4, 3, 2, 1], [], [])\n",
    "    [5, 4, 3, 2, 1]\n",
    "    >>> tower_of_hanoi(1, [1], [], [])\n",
    "    [1]\n",
    "    \"\"\"\n",
    "    if n == 1:\n",
    "        target.append(sourse.pop())\n",
    "        return target\n",
    "    tower_of_hanoi(n - 1, sourse, auxiliary, target)\n",
    "    target.append(sourse.pop())\n",
    "    tower_of_hanoi(n - 1, auxiliary, target, sourse)\n",
    "    return target"
   ]
  },
  {
   "cell_type": "code",
   "execution_count": 2,
   "metadata": {},
   "outputs": [
    {
     "name": "stdout",
     "output_type": "stream",
     "text": [
      "Trying:\n",
      "    tower_of_hanoi(3, [3, 2, 1], [], [])\n",
      "Expecting:\n",
      "    [3, 2, 1]\n",
      "ok\n",
      "Trying:\n",
      "    tower_of_hanoi(5, [5, 4, 3, 2, 1], [], [])\n",
      "Expecting:\n",
      "    [5, 4, 3, 2, 1]\n",
      "ok\n",
      "Trying:\n",
      "    tower_of_hanoi(1, [1], [], [])\n",
      "Expecting:\n",
      "    [1]\n",
      "ok\n",
      "1 items had no tests:\n",
      "    __main__\n",
      "1 items passed all tests:\n",
      "   3 tests in __main__.tower_of_hanoi\n",
      "3 tests in 2 items.\n",
      "3 passed and 0 failed.\n",
      "Test passed.\n"
     ]
    }
   ],
   "source": [
    "if __name__ == \"__main__\":\n",
    "    import doctest\n",
    "    doctest.testmod(verbose=True)"
   ]
  }
 ],
 "metadata": {
  "kernelspec": {
   "display_name": "Python 3",
   "language": "python",
   "name": "python3"
  },
  "language_info": {
   "codemirror_mode": {
    "name": "ipython",
    "version": 3
   },
   "file_extension": ".py",
   "mimetype": "text/x-python",
   "name": "python",
   "nbconvert_exporter": "python",
   "pygments_lexer": "ipython3",
   "version": "3.7.7"
  }
 },
 "nbformat": 4,
 "nbformat_minor": 4
}
