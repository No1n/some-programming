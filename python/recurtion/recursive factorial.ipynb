{
 "cells": [
  {
   "cell_type": "code",
   "execution_count": 1,
   "metadata": {},
   "outputs": [],
   "source": [
    "def factorial(n:int):\n",
    "    \"\"\"\n",
    "    Recursive implementation of obtaining factorial.\n",
    "\n",
    "    :param n: the number for obtaining factorial.\n",
    "    :return: factorial for number n.\n",
    "\n",
    "    Examples:\n",
    "    >>> factorial(10)\n",
    "    3628800\n",
    "    >>> factorial(0)\n",
    "    1\n",
    "    >>> factorial(5)\n",
    "    120\n",
    "    \"\"\"\n",
    "    assert n >= 0, \"Factorial not defined! Enter a number greater than zero.\"\n",
    "    if n == 0:\n",
    "        return 1\n",
    "    return factorial(n-1)*n"
   ]
  },
  {
   "cell_type": "code",
   "execution_count": 2,
   "metadata": {},
   "outputs": [
    {
     "name": "stdout",
     "output_type": "stream",
     "text": [
      "Trying:\n",
      "    factorial(10)\n",
      "Expecting:\n",
      "    3628800\n",
      "ok\n",
      "Trying:\n",
      "    factorial(0)\n",
      "Expecting:\n",
      "    1\n",
      "ok\n",
      "Trying:\n",
      "    factorial(5)\n",
      "Expecting:\n",
      "    120\n",
      "ok\n",
      "1 items had no tests:\n",
      "    __main__\n",
      "1 items passed all tests:\n",
      "   3 tests in __main__.factorial\n",
      "3 tests in 2 items.\n",
      "3 passed and 0 failed.\n",
      "Test passed.\n"
     ]
    }
   ],
   "source": [
    "if __name__ == \"__main__\":\n",
    "    import doctest\n",
    "    doctest.testmod(verbose=True)"
   ]
  }
 ],
 "metadata": {
  "kernelspec": {
   "display_name": "Python 3",
   "language": "python",
   "name": "python3"
  },
  "language_info": {
   "codemirror_mode": {
    "name": "ipython",
    "version": 3
   },
   "file_extension": ".py",
   "mimetype": "text/x-python",
   "name": "python",
   "nbconvert_exporter": "python",
   "pygments_lexer": "ipython3",
   "version": "3.7.7"
  }
 },
 "nbformat": 4,
 "nbformat_minor": 4
}
