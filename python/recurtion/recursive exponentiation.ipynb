{
 "cells": [
  {
   "cell_type": "code",
   "execution_count": 1,
   "metadata": {},
   "outputs": [],
   "source": [
    "def recursive_exponentiation_pure(a:int, n:int):\n",
    "    \"\"\"\n",
    "    Pure recursive implementation of exponentiation.\n",
    "\n",
    "    Complexity:\n",
    "    O(n)\n",
    "    \n",
    "    :param a: exponential number.\n",
    "    :param n: exponent.\n",
    "    :return: a in degree n.\n",
    "\n",
    "    Examples:\n",
    "    >>> recursive_exponentiation_pure(5, 25)\n",
    "    298023223876953125\n",
    "    >>> recursive_exponentiation_pure(5, 0)\n",
    "    1\n",
    "    >>> recursive_exponentiation_pure(10, 10)\n",
    "    10000000000\n",
    "    \"\"\"\n",
    "    if n == 0:\n",
    "        return 1\n",
    "    else:\n",
    "        return recursive_exponentiation_pure(a, n-1)*a\n",
    "\n",
    "def recursive_exponentiation_optimized(a:int, n:int):\n",
    "    \"\"\"\n",
    "    Optimized recursive implementation of exponentiation.\n",
    "\n",
    "    Complexity:\n",
    "    O(log2(n))\n",
    "\n",
    "    :param a: exponential number.\n",
    "    :param n: exponent.\n",
    "    :return: a in degree n.\n",
    "\n",
    "    Examples:\n",
    "    >>> recursive_exponentiation_pure(5, 25)\n",
    "    298023223876953125\n",
    "    >>> recursive_exponentiation_pure(5, 0)\n",
    "    1\n",
    "    >>> recursive_exponentiation_pure(10, 10)\n",
    "    10000000000\n",
    "    \"\"\"\n",
    "    if n == 0:\n",
    "        return 1\n",
    "    elif n%2 == 1:\n",
    "        return recursive_exponentiation_pure(a, n-1)*a\n",
    "    else:\n",
    "        return recursive_exponentiation_pure(a*a, n//2)"
   ]
  },
  {
   "cell_type": "code",
   "execution_count": 2,
   "metadata": {},
   "outputs": [
    {
     "name": "stdout",
     "output_type": "stream",
     "text": [
      "Trying:\n",
      "    recursive_exponentiation_pure(5, 25)\n",
      "Expecting:\n",
      "    298023223876953125\n",
      "ok\n",
      "Trying:\n",
      "    recursive_exponentiation_pure(5, 0)\n",
      "Expecting:\n",
      "    1\n",
      "ok\n",
      "Trying:\n",
      "    recursive_exponentiation_pure(10, 10)\n",
      "Expecting:\n",
      "    10000000000\n",
      "ok\n",
      "Trying:\n",
      "    recursive_exponentiation_pure(5, 25)\n",
      "Expecting:\n",
      "    298023223876953125\n",
      "ok\n",
      "Trying:\n",
      "    recursive_exponentiation_pure(5, 0)\n",
      "Expecting:\n",
      "    1\n",
      "ok\n",
      "Trying:\n",
      "    recursive_exponentiation_pure(10, 10)\n",
      "Expecting:\n",
      "    10000000000\n",
      "ok\n",
      "1 items had no tests:\n",
      "    __main__\n",
      "2 items passed all tests:\n",
      "   3 tests in __main__.recursive_exponentiation_optimized\n",
      "   3 tests in __main__.recursive_exponentiation_pure\n",
      "6 tests in 3 items.\n",
      "6 passed and 0 failed.\n",
      "Test passed.\n"
     ]
    }
   ],
   "source": [
    "if __name__ == \"__main__\":\n",
    "    import doctest\n",
    "    doctest.testmod(verbose=True)"
   ]
  }
 ],
 "metadata": {
  "kernelspec": {
   "display_name": "Python 3",
   "language": "python",
   "name": "python3"
  },
  "language_info": {
   "codemirror_mode": {
    "name": "ipython",
    "version": 3
   },
   "file_extension": ".py",
   "mimetype": "text/x-python",
   "name": "python",
   "nbconvert_exporter": "python",
   "pygments_lexer": "ipython3",
   "version": "3.7.7"
  }
 },
 "nbformat": 4,
 "nbformat_minor": 4
}
