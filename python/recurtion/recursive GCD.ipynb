{
 "cells": [
  {
   "cell_type": "code",
   "execution_count": 1,
   "metadata": {},
   "outputs": [],
   "source": [
    "def gcd_pure(a:int, b:int):\n",
    "    \"\"\"\n",
    "    Pure implementation of Euclid's algorithm\n",
    "    for obtaining greatest common divisor.\n",
    "\n",
    "    :param a: the first number.\n",
    "    :param b: the second number.\n",
    "    :return: the greatest common divisor.\n",
    "\n",
    "    Examples:\n",
    "    >>> gcd_pure(184, 1288)\n",
    "    184\n",
    "    >>> gcd_pure(156, 16)\n",
    "    4\n",
    "    \"\"\"\n",
    "    if a == b:\n",
    "        return a\n",
    "    elif a > b:\n",
    "        return gcd_pure(a-b, b)\n",
    "    else:\n",
    "        return gcd_pure(a, b-a)\n",
    "\n",
    "def gcd_optimized(a:int, b:int):\n",
    "    \"\"\"\n",
    "    Optimized implementation of Euclid's algorithm\n",
    "    for obtaining greatest common divisor.\n",
    "\n",
    "    :param a: the first number.\n",
    "    :param b: the second number.\n",
    "    :return: the greatest common divisor.\n",
    "\n",
    "    Examples:\n",
    "    >>> gcd_optimized(184, 1288)\n",
    "    184\n",
    "    >>> gcd_optimized(156, 16)\n",
    "    4\n",
    "    \"\"\"\n",
    "    return a if b == 0 else gcd_optimized(b, a%b)"
   ]
  },
  {
   "cell_type": "code",
   "execution_count": 2,
   "metadata": {},
   "outputs": [
    {
     "name": "stdout",
     "output_type": "stream",
     "text": [
      "Trying:\n",
      "    gcd_optimized(184, 1288)\n",
      "Expecting:\n",
      "    184\n",
      "ok\n",
      "Trying:\n",
      "    gcd_optimized(156, 16)\n",
      "Expecting:\n",
      "    4\n",
      "ok\n",
      "Trying:\n",
      "    gcd_pure(184, 1288)\n",
      "Expecting:\n",
      "    184\n",
      "ok\n",
      "Trying:\n",
      "    gcd_pure(156, 16)\n",
      "Expecting:\n",
      "    4\n",
      "ok\n",
      "1 items had no tests:\n",
      "    __main__\n",
      "2 items passed all tests:\n",
      "   2 tests in __main__.gcd_optimized\n",
      "   2 tests in __main__.gcd_pure\n",
      "4 tests in 3 items.\n",
      "4 passed and 0 failed.\n",
      "Test passed.\n"
     ]
    }
   ],
   "source": [
    "if __name__ == \"__main__\":\n",
    "    import doctest\n",
    "    doctest.testmod(verbose=True)"
   ]
  }
 ],
 "metadata": {
  "kernelspec": {
   "display_name": "Python 3",
   "language": "python",
   "name": "python3"
  },
  "language_info": {
   "codemirror_mode": {
    "name": "ipython",
    "version": 3
   },
   "file_extension": ".py",
   "mimetype": "text/x-python",
   "name": "python",
   "nbconvert_exporter": "python",
   "pygments_lexer": "ipython3",
   "version": "3.7.7"
  }
 },
 "nbformat": 4,
 "nbformat_minor": 4
}
