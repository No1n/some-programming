{
 "cells": [
  {
   "cell_type": "code",
   "execution_count": 1,
   "metadata": {},
   "outputs": [],
   "source": [
    "def naive_ps(text:str, pat:str):\n",
    "    \"\"\"\n",
    "    Naive pattern searching algorithm implementation.\n",
    " \n",
    "    Complexity:\n",
    "    O(n*m)\n",
    "\n",
    "    :param text: the text.\n",
    "    :param pat: the pattern.\n",
    "    :return: list with indexes of the beginning of the found patterns.\n",
    "    \n",
    "    Examples:\n",
    "    >>> naive_ps(\"aaa\", \"a\")\n",
    "    [0, 1, 2]\n",
    "    \"\"\"\n",
    "    N = len(text)\n",
    "    M = len(pat)\n",
    "    indexes = []\n",
    "    for i in range(N - M + 1):\n",
    "        j = 0\n",
    "        while j < M:\n",
    "            if text[i + j] != pat[j]:\n",
    "                break\n",
    "            j += 1\n",
    "        if j == M:\n",
    "            indexes.append(i)\n",
    "    return indexes\n",
    "\n",
    "\n",
    "# It's working right???\n",
    "def opt_naive_ps(text:str, pat:str):\n",
    "    \"\"\"\n",
    "    Optimazed naive pattern searching algorithm implementation.\n",
    "    All characters of pattern must be different.\n",
    "\n",
    "    :param text: the text.\n",
    "    :param pat: the pattern.\n",
    "    :return: list with indexes of the beginning of the found patterns.\n",
    "    \n",
    "    Examples:\n",
    "    >>> naive_ps(\"ABCEABCDABCEABCD\", \"ABCD\")\n",
    "    [4, 12]\n",
    "    \"\"\"\n",
    "    N = len(text)\n",
    "    M = len(pat)\n",
    "    i = 0\n",
    "    indexes = []\n",
    "    while i <= N - M:\n",
    "        for j in range(M):\n",
    "            if txt[i - 1] != pat[j]:\n",
    "                break\n",
    "            j += 1  \n",
    "        if j == M:\n",
    "            indexes.append(i)\n",
    "            i = i + M\n",
    "        elif j == 0:\n",
    "            i += 1\n",
    "        else:\n",
    "            i = i + j\n",
    "    return indexes"
   ]
  },
  {
   "cell_type": "code",
   "execution_count": 2,
   "metadata": {},
   "outputs": [
    {
     "name": "stdout",
     "output_type": "stream",
     "text": [
      "Trying:\n",
      "    naive_ps(\"aaa\", \"a\")\n",
      "Expecting:\n",
      "    [0, 1, 2]\n",
      "ok\n",
      "Trying:\n",
      "    naive_ps(\"ABCEABCDABCEABCD\", \"ABCD\")\n",
      "Expecting:\n",
      "    [4, 12]\n",
      "ok\n",
      "1 items had no tests:\n",
      "    __main__\n",
      "2 items passed all tests:\n",
      "   1 tests in __main__.naive_ps\n",
      "   1 tests in __main__.opt_naive_ps\n",
      "2 tests in 3 items.\n",
      "2 passed and 0 failed.\n",
      "Test passed.\n"
     ]
    }
   ],
   "source": [
    "if __name__ == \"__main__\":\n",
    "    import doctest\n",
    "    doctest.testmod(verbose=True)"
   ]
  }
 ],
 "metadata": {
  "kernelspec": {
   "display_name": "Python 3",
   "language": "python",
   "name": "python3"
  },
  "language_info": {
   "codemirror_mode": {
    "name": "ipython",
    "version": 3
   },
   "file_extension": ".py",
   "mimetype": "text/x-python",
   "name": "python",
   "nbconvert_exporter": "python",
   "pygments_lexer": "ipython3",
   "version": "3.7.7"
  }
 },
 "nbformat": 4,
 "nbformat_minor": 4
}
