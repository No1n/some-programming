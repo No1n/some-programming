{
 "cells": [
  {
   "cell_type": "code",
   "execution_count": 1,
   "metadata": {},
   "outputs": [
    {
     "data": {
      "text/plain": [
       "(3, 5)"
      ]
     },
     "execution_count": 1,
     "metadata": {},
     "output_type": "execute_result"
    }
   ],
   "source": [
    "import numpy as np\n",
    "import matplotlib.pyplot as plt\n",
    "\n",
    "def function(x):\n",
    "    return(x*x*x - 6*x*x + 4)\n",
    "\n",
    "def swann(center, step=1):\n",
    "    itter = 0\n",
    "    left_edge = center - step\n",
    "    right_edge = center + step\n",
    "    while not (function(left_edge) >= function(center) <= function(right_edge)):\n",
    "        if itter == 100000:\n",
    "            print(\"Interval not found. Try to change the starting point.\")\n",
    "            return\n",
    "        if function(left_edge) >= function(center) >= function(right_edge):\n",
    "            x = right_edge\n",
    "            right_edge = right_edge + step\n",
    "        elif function(left_edge) <= function(center) <= function(right_edge):\n",
    "            center = left_edge\n",
    "            left_edge -= step\n",
    "        elif function(left_edge) <= function(center) >= function(right_edge):\n",
    "            center += step\n",
    "        left_edge = center - step\n",
    "        right_edge = center + step\n",
    "        itter += 1\n",
    "    return(left_edge, right_edge)\n",
    "\n",
    "swann(100, step=1)"
   ]
  }
 ],
 "metadata": {
  "kernelspec": {
   "display_name": "Python 3",
   "language": "python",
   "name": "python3"
  },
  "language_info": {
   "codemirror_mode": {
    "name": "ipython",
    "version": 3
   },
   "file_extension": ".py",
   "mimetype": "text/x-python",
   "name": "python",
   "nbconvert_exporter": "python",
   "pygments_lexer": "ipython3",
   "version": "3.7.7"
  }
 },
 "nbformat": 4,
 "nbformat_minor": 4
}
